{
 "cells": [
  {
   "cell_type": "code",
   "execution_count": 1,
   "metadata": {},
   "outputs": [
    {
     "name": "stderr",
     "output_type": "stream",
     "text": [
      "/home/zuzanna/miniconda3/envs/medklip/lib/python3.9/site-packages/scipy/__init__.py:146: UserWarning: A NumPy version >=1.16.5 and <1.23.0 is required for this version of SciPy (detected version 1.26.4\n",
      "  warnings.warn(f\"A NumPy version >={np_minversion} and <{np_maxversion}\"\n",
      "/home/zuzanna/miniconda3/envs/medklip/lib/python3.9/site-packages/tqdm/auto.py:22: TqdmWarning: IProgress not found. Please update jupyter and ipywidgets. See https://ipywidgets.readthedocs.io/en/stable/user_install.html\n",
      "  from .autonotebook import tqdm as notebook_tqdm\n"
     ]
    }
   ],
   "source": [
    "import torchxrayvision as xrv\n",
    "\n",
    "rsna = xrv.datasets.RSNA_Pneumonia_Dataset('/home/zuzanna/rsna/train',views=[\"PA\",\"AP\"])  "
   ]
  },
  {
   "cell_type": "code",
   "execution_count": 2,
   "metadata": {},
   "outputs": [
    {
     "data": {
      "text/plain": [
       "{'idx': 0,\n",
       " 'lab': array([0., 0.], dtype=float32),\n",
       " 'img': array([[[  132.5177  ,    12.047119,  -108.42352 , ...,   389.5216  ,\n",
       "            445.7412  ,   -76.298035],\n",
       "         [  -20.07843 ,  -148.58038 ,  -261.0196  , ...,   349.36475 ,\n",
       "            405.58435 ,  -132.51764 ],\n",
       "         [ -180.70587 ,  -301.17645 ,  -413.61566 , ...,   309.2079  ,\n",
       "            381.49023 ,  -148.58038 ],\n",
       "         ...,\n",
       "         [ -887.4667  ,  -911.5608  ,  -935.6549  , ...,  -871.40393 ,\n",
       "           -903.5294  , -1007.93726 ],\n",
       "         [ -879.4353  ,  -895.49805 ,  -927.62354 , ...,  -847.3098  ,\n",
       "           -879.4353  ,  -991.8745  ],\n",
       "         [ -871.40393 ,  -887.4667  ,  -919.59216 , ...,  -839.27844 ,\n",
       "           -871.40393 ,  -975.81177 ]]], dtype=float32)}"
      ]
     },
     "execution_count": 2,
     "metadata": {},
     "output_type": "execute_result"
    }
   ],
   "source": [
    "rsna[0]"
   ]
  },
  {
   "cell_type": "code",
   "execution_count": 2,
   "metadata": {},
   "outputs": [],
   "source": [
    "import numpy as np \n",
    "\n",
    "# Load the saved train and validation indices\n",
    "train_indices_combined = np.load('train_indices.npy').tolist()\n",
    "val_indices = np.load('val_indices.npy').tolist()"
   ]
  },
  {
   "cell_type": "code",
   "execution_count": 3,
   "metadata": {},
   "outputs": [],
   "source": [
    "import numpy as np\n",
    "import random\n",
    "\n",
    "# Split into majority (label 0) and minority (label 1) classes\n",
    "majority_class = 0\n",
    "minority_class = 0\n",
    "for i in train_indices_combined:\n",
    "    label = rsna[i]['lab']\n",
    "    # label = 0 if np.array_equal(sample['lab'], [0.0, 0.0]) else 1\n",
    "    if np.array_equal(label, [0.0, 0.0]) != 0:\n",
    "        majority_class+=1\n",
    "    else:\n",
    "        minority_class+=1"
   ]
  },
  {
   "cell_type": "code",
   "execution_count": 4,
   "metadata": {},
   "outputs": [
    {
     "data": {
      "text/plain": [
       "(4243, 4243)"
      ]
     },
     "execution_count": 4,
     "metadata": {},
     "output_type": "execute_result"
    }
   ],
   "source": [
    "majority_class, minority_class"
   ]
  },
  {
   "cell_type": "code",
   "execution_count": 9,
   "metadata": {},
   "outputs": [],
   "source": [
    "from sklearn.model_selection import train_test_split\n",
    "\n",
    "train_indices, val_indices = train_test_split(indices, test_size=0.3, random_state=42)"
   ]
  },
  {
   "cell_type": "code",
   "execution_count": 10,
   "metadata": {},
   "outputs": [],
   "source": [
    "import numpy as np\n",
    "import random\n",
    "\n",
    "# Split into majority (label 0) and minority (label 1) classes\n",
    "majority_class = []\n",
    "minority_class = []\n",
    "for i in train_indices:\n",
    "    label = rsna[i]['lab']\n",
    "    # label = 0 if np.array_equal(sample['lab'], [0.0, 0.0]) else 1\n",
    "    if np.array_equal(label, [0.0, 0.0]) != 0:\n",
    "        majority_class.append(i)\n",
    "    else:\n",
    "        minority_class.append(i)\n",
    "\n",
    "# Undersample the majority class\n",
    "majority_count = len(minority_class)    \n",
    "majority_class = random.sample(majority_class, majority_count)"
   ]
  },
  {
   "cell_type": "code",
   "execution_count": 11,
   "metadata": {},
   "outputs": [
    {
     "data": {
      "text/plain": [
       "(4243, 4243)"
      ]
     },
     "execution_count": 11,
     "metadata": {},
     "output_type": "execute_result"
    }
   ],
   "source": [
    "len(majority_class), len(minority_class)"
   ]
  },
  {
   "cell_type": "code",
   "execution_count": 13,
   "metadata": {},
   "outputs": [],
   "source": [
    "import numpy as np\n",
    "\n",
    "# Combine the majority and minority classes to create the final train set\n",
    "train_indices_combined = majority_class + minority_class\n",
    "\n",
    "# Save the train and validation indices as .npy files\n",
    "np.save('train_indices.npy', train_indices_combined)\n",
    "np.save('val_indices.npy', val_indices)"
   ]
  }
 ],
 "metadata": {
  "kernelspec": {
   "display_name": "medklip",
   "language": "python",
   "name": "python3"
  },
  "language_info": {
   "codemirror_mode": {
    "name": "ipython",
    "version": 3
   },
   "file_extension": ".py",
   "mimetype": "text/x-python",
   "name": "python",
   "nbconvert_exporter": "python",
   "pygments_lexer": "ipython3",
   "version": "3.9.19"
  }
 },
 "nbformat": 4,
 "nbformat_minor": 2
}
